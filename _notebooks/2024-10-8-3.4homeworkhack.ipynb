{
 "cells": [
  {
   "cell_type": "code",
   "execution_count": null,
   "metadata": {},
   "outputs": [],
   "source": [
    "let favorite movie = \"The Dark Knight Rises\"\n",
    "let favorite sport = \"Soccer\"\n",
    "let favorite food = \"Chipotle\""
   ]
  }
 ],
 "metadata": {
  "language_info": {
   "name": "python"
  }
 },
 "nbformat": 4,
 "nbformat_minor": 2
}
