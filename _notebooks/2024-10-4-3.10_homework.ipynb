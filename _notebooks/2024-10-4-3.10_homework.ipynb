{
 "cells": [
  {
   "cell_type": "code",
   "execution_count": null,
   "metadata": {},
   "outputs": [],
   "source": [
    "Hack 1: User Input and List Operations\n",
    "The script will allow input, append to a list, sum the numbers, and allow removal using pop()\n",
    "def list_operations():\n",
    "    numbers = []\n",
    "    while True:\n",
    "        user_input = input(\"Enter a number (or type 'done' to stop): \")\n",
    "        if user_input.lower() == 'done':\n",
    "            break\n",
    "        elif user_input.lower() == 'pop':\n",
    "            if numbers:\n",
    "                numbers.pop()\n",
    "            else:\n",
    "                print(\"The list is empty, nothing to pop.\")\n",
    "        else:\n",
    "            try:\n",
    "                numbers.append(int(user_input))\n",
    "            except ValueError:\n",
    "                print(\"Please enter a valid number.\")\n",
    "\n",
    "    print(f\"Numbers entered: {numbers}\")\n",
    "    print(f\"Sum of numbers: {sum(numbers)}\")\n",
    "\n",
    "list_operations()"
   ]
  },
  {
   "cell_type": "code",
   "execution_count": null,
   "metadata": {},
   "outputs": [],
   "source": [
    "def list_operations():\n",
    "    numbers = []\n",
    "    while True:\n",
    "        user_input = input(\"Enter a number (or type 'done' to stop, 'pop' to remove last number): \")\n",
    "        if user_input.lower() == 'done':\n",
    "            break\n",
    "        elif user_input.lower() == 'pop':``\n",
    "            if numbers:\n",
    "                numbers.pop()\n",
    "            else:\n",
    "                print(\"The list is empty, nothing to pop.\")\n",
    "        else:\n",
    "            try:\n",
    "                numbers.append(int(user_input))\n",
    "            except ValueError:\n",
    "                print(\"Please enter a valid number.\")\n",
    "\n",
    "    print(f\"Numbers entered: {numbers}\")\n",
    "    print(f\"Sum of numbers: {sum(numbers)}\")\n",
    "\n",
    "list_operations()"
   ]
  },
  {
   "cell_type": "code",
   "execution_count": null,
   "metadata": {},
   "outputs": [],
   "source": [
    "def sum_even_numbers():\n",
    "    even_sum = sum([i for i in range(1, 101) if i % 2 == 0])\n",
    "    print(f\"Sum of even numbers from 1 to 100 is: {even_sum}\")\n",
    "\n",
    "sum_even_numbers()"
   ]
  },
  {
   "cell_type": "code",
   "execution_count": null,
   "metadata": {},
   "outputs": [],
   "source": [
    "import random\n",
    "\n",
    "def meal_suggestion():\n",
    "    meals = []\n",
    "    while True:\n",
    "        meal = input(\"Enter a meal (or type 'done' to stop): \")\n",
    "        if meal.lower() == 'done':\n",
    "            break\n",
    "        meals.append(meal)\n",
    "\n",
    "    if meals:\n",
    "        print(f\"Random meal suggestion: {random.choice(meals)}\")\n",
    "    else:\n",
    "        print(\"No meals entered.\")\n",
    "\n",
    "meal_suggestion()"
   ]
  }
 ],
 "metadata": {
  "language_info": {
   "name": "python"
  }
 },
 "nbformat": 4,
 "nbformat_minor": 2
}
